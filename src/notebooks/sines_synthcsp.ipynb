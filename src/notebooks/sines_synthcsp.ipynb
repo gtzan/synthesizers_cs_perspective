{
 "cells": [
  {
   "cell_type": "markdown",
   "metadata": {},
   "source": [
    "# Sines  \n",
    "### Synthesizers: a computer science perspective - G.  Tzanetakis \n",
    "\n",
    "In this notebook we will explore sines as basic abstract building blocks of music. First we look into how to create a sinusoidal signal of a particular duration and frequency with discrete samples at a specified sampling rate. Then we will hear and view the resulting signals in different ways. Simple recognizable melodies can be created from these \n",
    "very simple individual sinusoidal signals by appropriately setting their durations and frequencies. In the first cell below we setup things and load some Python modules that we will use for plotting and playing audio. \n"
   ]
  },
  {
   "cell_type": "code",
   "execution_count": null,
   "metadata": {},
   "outputs": [],
   "source": [
    "import numpy as np\n",
    "import IPython.display as ipd\n",
    "\n",
    "%matplotlib notebook \n",
    "import matplotlib.pyplot as plt\n",
    "from matplotlib.widgets import Slider, Button, RadioButtons"
   ]
  },
  {
   "cell_type": "markdown",
   "metadata": {},
   "source": [
    "Let's create a sinusoid with a frequency of 220Hz at the audio rate of 44100 samples per second and then listen to it. The variable $t$ is an array containing the time instances in seconds that correspond to each sample. We generate 5 seconds of audio by evaluating the appropriate sine function (np.sin) for each of these time instances. The last line of the cell displays a small audio player that allows us to hear the generated sinsuoidal sound wave. "
   ]
  },
  {
   "cell_type": "code",
   "execution_count": null,
   "metadata": {},
   "outputs": [],
   "source": [
    "\n",
    "srate = 44100     # sampling rate \n",
    "duration = 1      # duration in seconds \n",
    "freq = 220        # frequency \n",
    "amp = 0.5         # amplitude \n",
    "\n",
    "t = np.linspace(0,duration,srate*duration)     # time instances of samples \n",
    "data =  amp * np.sin(2*np.pi*freq*t);                # audio samples \n",
    "\n",
    "# play the corresponding audio \n",
    "ipd.Audio(data,rate=srate)"
   ]
  },
  {
   "cell_type": "markdown",
   "metadata": {},
   "source": [
    "We can abstract the generation of a sinusoidal signal of a particular amplitude, frequency and phase by writing a function that also takes a duration in seconds as an argument. This function can be used to view plots of sinusoidal signals and listen to them without having to repeat the code used for the generation of samples. \n"
   ]
  },
  {
   "cell_type": "code",
   "execution_count": null,
   "metadata": {},
   "outputs": [],
   "source": [
    "# generate a discrete time sine signal with a specified amplitude, frequency, duration, and \n",
    "# phase \n",
    "def sinusoid(freq=440.0, dur=1.0, srate=44100.0, amp=1.0, phase = 0.0): \n",
    "    t = np.linspace(0,dur,int(srate*dur))\n",
    "    data = amp * np.sin(2*np.pi*freq *t+phase)\n",
    "    return data\n",
    "\n",
    "data = sinusoid(freq=220, dur=2.0)\n",
    "ipd.Audio(data,rate=srate)\n"
   ]
  },
  {
   "cell_type": "markdown",
   "metadata": {},
   "source": [
    "Now let's look at a plot of our signal. In order to visualize what is happening we will view 0.01 seconds or 10 milliseconds of audio signal so that we can see the time domain waveform better. A sinusoidal signal is characterized by three numbers: the amplitude, the frequency, and the phase. The following interactive plot will show the effect of changing these values using sliders.  "
   ]
  },
  {
   "cell_type": "code",
   "execution_count": null,
   "metadata": {
    "scrolled": true
   },
   "outputs": [],
   "source": [
    "# plot initial signal \n",
    "fig, ax = plt.subplots(figsize=(4,3))\n",
    "plt.subplots_adjust(left=0.25, bottom=0.30)\n",
    "l, = plt.plot(sinusoid(freq=440, dur =0.01, amp=1.0), lw=2, color='red')\n",
    "# plt.xkcd()       # turn on funny xkcd style plotting \n",
    "\n",
    "# create sliders \n",
    "axcolor = 'lightgoldenrodyellow'\n",
    "axamp = plt.axes([0.25, 0.1, 0.65, 0.05], facecolor=axcolor)\n",
    "axfreq = plt.axes([0.25, 0.05, 0.65, 0.05], facecolor=axcolor)\n",
    "axphase = plt.axes([0.25, 0.15, 0.65, 0.05], facecolor=axcolor)\n",
    "samp = Slider(axamp, 'Amp', 0.1, 1.0, valinit=1.0)\n",
    "sfreq = Slider(axfreq, 'Freq', 10.0, 1000.0, 440)\n",
    "sphase = Slider(axphase, 'Phase', (2*np.pi) / 100.0, 2 * np.pi, 0)\n",
    "\n",
    "# the udpate function is called when the slider values changes \n",
    "# the plot is redrawn to reflect the new values \n",
    "def update(val):\n",
    "    amp = samp.val\n",
    "    freq = sfreq.val\n",
    "    phase = sphase.val\n",
    "    l.set_ydata(sinusoid(freq=freq,dur = 0.01, amp=amp, phase=phase))\n",
    "    fig.canvas.draw_idle()\n",
    "    \n",
    "# connect the update function with the sliders \n",
    "sfreq.on_changed(update)\n",
    "samp.on_changed(update)\n",
    "sphase.on_changed(update)"
   ]
  },
  {
   "cell_type": "markdown",
   "metadata": {},
   "source": [
    "By concatenating appropriate sinusoidal signals we can generate a simple melody. "
   ]
  },
  {
   "cell_type": "code",
   "execution_count": null,
   "metadata": {},
   "outputs": [],
   "source": [
    "# frequencies of three notes (C, D, E) \n",
    "c_freq = 523.0   \n",
    "d_freq = 587.0  \n",
    "e_freq = 659.0 \n",
    "\n",
    "# generate sine signals corresponding to each note \n",
    "c_data = sinusoid(c_freq, 0.5)\n",
    "d_data = sinusoid(d_freq, 0.5)\n",
    "e_data = sinusoid(e_freq, 0.5)\n",
    "\n",
    "# form a simple melody by concateneting the signal arrays for each note \n",
    "data = np.hstack([c_data, d_data, e_data, c_data, c_data, d_data, e_data, c_data])\n",
    "ipd.Audio(data,rate=srate)"
   ]
  },
  {
   "cell_type": "markdown",
   "metadata": {},
   "source": [
    "Now let's see what happens if we play the sine waves simultanesouly.  "
   ]
  },
  {
   "cell_type": "code",
   "execution_count": null,
   "metadata": {},
   "outputs": [],
   "source": [
    "data = np.vstack([c_data, d_data, e_data])\n",
    "data = np.sum(data, axis=0)\n",
    "ipd.Audio(data,rate=srate)\n"
   ]
  },
  {
   "cell_type": "markdown",
   "metadata": {},
   "source": [
    "What if we change a little bit the frequencies so that they are multiples of the first frequency ? First we hear them individually and then all together "
   ]
  },
  {
   "cell_type": "code",
   "execution_count": null,
   "metadata": {},
   "outputs": [],
   "source": [
    "freq1 = 220.0 \n",
    "freq2 = 440.0 \n",
    "freq3 = 660.0 \n",
    "freq4 = 880.0 \n",
    "\n",
    "data_f1 = sinusoid(freq1, 0.5, amp=0.8)\n",
    "data_f2 = sinusoid(freq2, 0.5, amp=0.5)\n",
    "data_f3 = sinusoid(freq3, 0.5, amp=0.25)\n",
    "data_f4 = sinusoid(freq4, 0.5, amp=0.1)\n",
    "\n",
    "data = np.hstack([data_f1, data_f2, data_f3, data_f4])\n",
    "ipd.Audio(data,rate=srate)"
   ]
  },
  {
   "cell_type": "markdown",
   "metadata": {},
   "source": [
    "Now let's hear them simultaneously. Notice how it now sounds like a single note. This is because the underylying frequencies are multiples of each other (known as harmonics) and our auditory system perceives them as a single note with a more complex timbre.  "
   ]
  },
  {
   "cell_type": "code",
   "execution_count": null,
   "metadata": {},
   "outputs": [],
   "source": [
    "data = np.vstack([data_f2, data_f3, data_f4])\n",
    "data = np.sum(data, axis=0)\n",
    "ipd.Audio(data,rate=srate)"
   ]
  },
  {
   "cell_type": "markdown",
   "metadata": {
    "collapsed": true
   },
   "source": [
    "To summarize, we are able to create simple but recognizable music pieces by combining discrete sinusoidal signals through concatenation and addition. A sinusoid is fully characterized by three numbers amplitude, frequency, and phase. "
   ]
  }
 ],
 "metadata": {
  "kernelspec": {
   "display_name": "Python 3 (ipykernel)",
   "language": "python",
   "name": "python3"
  },
  "language_info": {
   "codemirror_mode": {
    "name": "ipython",
    "version": 3
   },
   "file_extension": ".py",
   "mimetype": "text/x-python",
   "name": "python",
   "nbconvert_exporter": "python",
   "pygments_lexer": "ipython3",
   "version": "3.9.12"
  }
 },
 "nbformat": 4,
 "nbformat_minor": 2
}
