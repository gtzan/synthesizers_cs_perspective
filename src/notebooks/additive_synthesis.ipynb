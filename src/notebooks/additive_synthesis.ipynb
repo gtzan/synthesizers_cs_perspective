{
 "cells": [
  {
   "cell_type": "markdown",
   "metadata": {},
   "source": [
    "\n",
    "# Additive Synthesis  \n",
    "### George Tzanetakis, University of Victoria \n",
    "\n",
    "\n",
    "In this notebook we explore the basic idea of additive synthesis in which complex sounds are created by adding individual sinusoidal signals with time-varying amplitude envelopes. This allows the creation of complex sounds but requires more computational resources and careful analysis of existing sounds to obtain the partials and corresponding envelopes. \n",
    "\n",
    "A note on terminology. A **harmonic** refers to a peak in the magnitude spectrum at a frequency which is an integer multiple (harmonic) of a fundamental frequency. A **partial** is a more general term referring to any peak in the magnitude spectrum which in some cases might not be exactly harmonic. For an example see the bell sound at the bottom of this notebook. \n"
   ]
  },
  {
   "cell_type": "code",
   "execution_count": null,
   "metadata": {},
   "outputs": [],
   "source": [
    "import numpy as np\n",
    "import IPython.display as ipd"
   ]
  },
  {
   "cell_type": "markdown",
   "metadata": {},
   "source": [
    "Let's create a sound by compibing three sinusoid harmonics. You can see that we get a more complex time-domain waveform plot. "
   ]
  },
  {
   "cell_type": "code",
   "execution_count": null,
   "metadata": {},
   "outputs": [],
   "source": [
    "srate = 44100      # sampling rate \n",
    "duration = 1       # duration in seconds \n",
    "freq = 120         # frequency \n",
    "\n",
    "t = np.linspace(0,duration,srate*duration)     # time instances of samples \n",
    "h0 =  0.5 * np.sin(2*np.pi*freq*t+np.pi/4);    # fundamental\n",
    "h1 = 0.0 *  np.sin(2*np.pi*2*freq*t);          # octave  \n",
    "h2 = 0.2 * np.sin(2*np.pi*3*freq*t);           # octave+fifth \n",
    "\n",
    "# play the corresponding audio \n",
    "data = 0.3 * (h0 + h1 + h2) \n",
    "ipd.Audio(data,rate=srate)"
   ]
  },
  {
   "cell_type": "code",
   "execution_count": null,
   "metadata": {},
   "outputs": [],
   "source": [
    "fig, ax = plt.subplots(figsize=(4,3))\n",
    "plt.plot(data[0:1000])\n",
    "plt.show()"
   ]
  },
  {
   "cell_type": "code",
   "execution_count": null,
   "metadata": {},
   "outputs": [],
   "source": [
    "import boreal \n",
    "boreal.spectrum((data, 44100))"
   ]
  },
  {
   "cell_type": "markdown",
   "metadata": {},
   "source": [
    "Notice the click at the end points of the sound example. By using envelopes we can get a smoother sound with no clicks and much more complex structure. The envelope function takes as an input argument a list of tuples that describe line ramps/segments in time. This allows \n",
    "us to create complex envelopes and is a generalization of the standard \n",
    "ADSR (Attack, Decay, Sustain, Release) envelope. Each segment is characterized by a tuple: (target_value, time to target value, and time to hold value). Using this additive model we can play different notes \n",
    "of our complex sound. The next two examples are based on PureData examples from the Andy Farnell book \"Designing Sound\". "
   ]
  },
  {
   "cell_type": "code",
   "execution_count": null,
   "metadata": {},
   "outputs": [],
   "source": [
    "import numpy as np\n",
    "    \n",
    "def plot(data_list): \n",
    "    fig, ax = plt.subplots(figsize=(4,3))\n",
    "    for data in data_list: \n",
    "        plt.plot(data)    \n",
    "\n",
    "def envelope(segments,srate,duration): \n",
    "    nsamples = int(srate*duration)\n",
    "    value = 0.0\n",
    "    segment_index = 0 \n",
    "    data = np.zeros(nsamples)\n",
    "    segment_sample = 0 \n",
    "    prev_target = 0.0\n",
    "\n",
    "    for i in np.arange(nsamples): \n",
    "        if (segment_index < len(segments)): \n",
    "            target = segments[segment_index][0]\n",
    "            ramp_time = segments[segment_index][1]\n",
    "            delay_time = segments[segment_index][2]\n",
    "            \n",
    "            ramp_samples = (ramp_time / 1000.0) * srate \n",
    "            delay_samples = (delay_time / 1000.0) * srate\n",
    "            \n",
    "            if i < segment_sample + ramp_samples: \n",
    "                incr = (target-prev_target) / ramp_samples \n",
    "            elif i < segment_sample + ramp_samples + delay_samples: \n",
    "                incr = 0.0 \n",
    "            else: \n",
    "                if ramp_samples != 0.0: \n",
    "                    incr = (target-prev_target) / ramp_samples \n",
    "                else: \n",
    "                    incr = 0.0 \n",
    "                segment_sample = i \n",
    "                segment_index = segment_index+1 \n",
    "                prev_target = target \n",
    "            value = value + incr \n",
    "        data[i] = value\n",
    "    return data  \n",
    "    \n",
    "\n",
    "s1 = [(0.8, 50, 0), (1,200,50), (0.5, 900, 250), (0,1000, 1150)]\n",
    "s2 = [(0.8, 100, 0), (0.35, 200, 100), (0.2, 1200, 1200), (0,2000, 2400)]\n",
    "s3 = [(0.9, 120, 0), (0.45, 500, 120), (0, 1000, 4000)]\n",
    "s4 = [(0.95,400,100), (0.2, 400, 500), (0.3, 900, 900), (0, 1000, 1900)]\n",
    "\n",
    "def sinusoid(freq=440.0, dur=1.0, srate=44100.0, amp=1.0, phase = 0.0): \n",
    "    t = np.linspace(0,dur,int(srate*dur))\n",
    "    data = amp * np.sin(2*np.pi*freq *t+phase)\n",
    "    return data\n",
    "\n",
    "dur = 4.0 \n",
    "f0 = 200 \n",
    "penv1 = amp_envelope(s1, srate, dur)\n",
    "penv2 = amp_envelope(s2, srate, dur)\n",
    "penv3 = amp_envelope(s3, srate, dur)\n",
    "penv4 = amp_envelope(s4, srate, dur)\n",
    "\n",
    "osc1 = sinusoid(f0, dur=dur)\n",
    "osc2 = sinusoid(2*f0, dur=dur)\n",
    "osc3 = sinusoid(3*f0, dur=dur)\n",
    "osc4 = sinusoid(4*f0, dur=dur)\n",
    "output1 = 0.25*(penv1 * osc1 + penv2 * osc2 + penv3 * osc3 + penv4 * osc4)\n",
    "\n",
    "f0 = 350 \n",
    "osc1 = sinusoid(f0, dur=dur)\n",
    "osc2 = sinusoid(2*f0, dur=dur)\n",
    "osc3 = sinusoid(3*f0, dur=dur)\n",
    "osc4 = sinusoid(4*f0, dur=dur)\n",
    "output2 = 0.25*(penv1*osc1 + penv2 * osc2 + penv3 * osc3 + penv4 * osc4)\n",
    "\n",
    "plot([penv1, penv2, penv3, penv4])\n",
    "\n",
    "data = np.concatenate([output1, output2])\n",
    "ipd.Audio(data,rate=srate)"
   ]
  },
  {
   "cell_type": "code",
   "execution_count": null,
   "metadata": {},
   "outputs": [],
   "source": [
    "import boreal\n",
    "boreal.render((data, srate), widgets=['time_waveform', 'spectrum', 'circulareq'])"
   ]
  },
  {
   "cell_type": "markdown",
   "metadata": {},
   "source": [
    "We can create quite complex sound by introducing more partials and inharmonicity. Below you can hear the sound of bell. The frequencies \n",
    "of the partials and the corresponding envelopes can be derived by \n",
    "manual or automatic inspection of the magnitude spectrogram of a bell sound recording. "
   ]
  },
  {
   "cell_type": "code",
   "execution_count": null,
   "metadata": {},
   "outputs": [],
   "source": [
    "\n",
    "def partial(f0, multiplier, t1, t2, t3, srate, duration): \n",
    "    osc = sinusoid(f0 * multiplier, dur=duration) \n",
    "    env = amp_envelope([(0.0, t3, 0.0), (1.0, t1, 0.0), (0.0, t2, t1)], \n",
    "                       srate, 10.0)\n",
    "    return env * osc\n",
    "\n",
    "p1 = partial(100, 1.0, 300, 9000, 400, srate, 10)\n",
    "p2 = partial(100, 2.01, 700, 8000, 100, srate, 10)\n",
    "p3 = partial(100, 4.02, 400, 7000, 32, srate, 10)\n",
    "p4 = partial(100, 6.06, 200, 6000, 20, srate, 10)\n",
    "p5 = partial(100, 8.12, 37, 5000, 17, srate, 10)\n",
    "p6 = partial(100, 10.25, 31, 4000, 12, srate, 10)\n",
    "p7 = partial(100, 12.5, 20, 3000, 7, srate, 10)\n",
    "p8 = partial(100, 14.8, 15, 1500,5, srate, 10)\n",
    "p9 = partial(100, 17, 5, 100, 2, srate, 10)\n",
    "p10 = partial(100, 19.02, 2, 500, 0, srate, 10)\n",
    "signal = (p1+p2+p3+p4+p5+p6+p7+p8+p9+p10)*0.01 \n",
    "plot([signal])\n",
    "ipd.Audio(signal, rate=srate)"
   ]
  },
  {
   "cell_type": "code",
   "execution_count": null,
   "metadata": {},
   "outputs": [],
   "source": [
    "import boreal \n",
    "boreal.spectrum((signal,srate))"
   ]
  },
  {
   "cell_type": "code",
   "execution_count": null,
   "metadata": {},
   "outputs": [],
   "source": []
  }
 ],
 "metadata": {
  "kernelspec": {
   "display_name": "Python 3 (ipykernel)",
   "language": "python",
   "name": "python3"
  },
  "language_info": {
   "codemirror_mode": {
    "name": "ipython",
    "version": 3
   },
   "file_extension": ".py",
   "mimetype": "text/x-python",
   "name": "python",
   "nbconvert_exporter": "python",
   "pygments_lexer": "ipython3",
   "version": "3.9.12"
  }
 },
 "nbformat": 4,
 "nbformat_minor": 2
}
