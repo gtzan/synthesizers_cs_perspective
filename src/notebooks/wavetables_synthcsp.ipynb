{
 "cells": [
  {
   "cell_type": "markdown",
   "id": "6c96c736",
   "metadata": {},
   "source": [
    "# Wavetable Synthesis and Envelopes\n",
    "## George Tzanetakis \n"
   ]
  },
  {
   "cell_type": "markdown",
   "id": "c85584cd",
   "metadata": {},
   "source": [
    "Pitched musical sounds have a period component that results in the perception of a well-defined pitch. When viewed as a time-domain waveform it is clear that for most instrument sounds there is a short non-periodic attack portion of the sound that is critical for the perceived identity of the resulting sound. "
   ]
  },
  {
   "cell_type": "markdown",
   "id": "0db4e7ab",
   "metadata": {},
   "source": [
    "As memory costs when down in the 1980s, it became possible to store samples of musical sounds rather than generating them with analog circuitry. In order to save memory it is common to store just one loop instance of the periodic part of the sound and repeat it during playback as needed. The array storing the samples is called the **wavetable**. The attack portion can also be stored as an array digital samples. The resulting synthesizers are called samplers and were able to immitate acoustical musical instruments sounds much more accurately than analog synthesizers. "
   ]
  },
  {
   "cell_type": "markdown",
   "id": "6314c95f",
   "metadata": {},
   "source": [
    "The term **wavetable synthesis** is more general and refers to the use of stored arrays of samples as part of a synthesis architecture and not just using them directly for playback. "
   ]
  },
  {
   "cell_type": "markdown",
   "id": "28c9151f",
   "metadata": {},
   "source": [
    "Let's first take a look at how we can use this approach for sinusoidal playback. "
   ]
  },
  {
   "cell_type": "code",
   "execution_count": 1,
   "id": "0c2a1ad2",
   "metadata": {},
   "outputs": [],
   "source": [
    "import numpy as np\n",
    "import IPython.display as ipd\n",
    "\n",
    "\n",
    "#plot_library = 'matplotlib'\n",
    "plot_library = 'matplotlib_xkcd'\n",
    "#plot_library = 'bokeh'\n",
    "\n",
    "\n",
    "if (plot_library=='bokeh'):\n",
    "    import bokeh \n",
    "    from bokeh.io import output_notebook\n",
    "    from bokeh.plotting import figure, output_file, show\n",
    "    output_notebook()\n",
    "\n",
    "    def plot(data_list): \n",
    "        p = figure(plot_height=300, plot_width=600, title='Synthesizers')\n",
    "        for data in data_list: \n",
    "            p.line(np.arange(0,len(data)), data)\n",
    "        show(p)\n",
    "        \n",
    "if (plot_library=='matplotlib'): \n",
    "    %matplotlib notebook \n",
    "    import matplotlib.pyplot as plt\n",
    "    def plot(data_list,label_list=[],xlabel='', ylabel='', title=''):\n",
    "        fig, ax = plt.subplots(figsize=(8,4))\n",
    "        for (data,label) in zip(data_list, label_list): \n",
    "            plt.title('Synth-CS: '+title)\n",
    "            plt.xlabel(xlabel)\n",
    "            plt.ylabel(ylabel)\n",
    "            plt.plot(np.arange(0, len(data)), data, label=label)\n",
    "        if (label_list):\n",
    "            ax.legend()\n",
    "        \n",
    "        \n",
    "if (plot_library=='matplotlib_xkcd'): \n",
    "    %matplotlib notebook \n",
    "    import matplotlib.pyplot as plt\n",
    "\n",
    "    def plot(data_list,label_list=[],xlabel='', ylabel='', title=''):\n",
    "        fig, ax = plt.subplots(figsize=(8,4))  \n",
    "        plt.xkcd()\n",
    "        if not(label_list):\n",
    "            for d in enumerate(data_list): \n",
    "                label_list.append('')\n",
    "        for (data,label) in zip(data_list, label_list): \n",
    "            plt.title('Synth-CS: '+title)\n",
    "            plt.xlabel(xlabel)\n",
    "            plt.ylabel(ylabel)\n",
    "            plt.plot(np.arange(0, len(data)), data, label=label)  \n",
    "            ax.legend()\n",
    "    "
   ]
  },
  {
   "cell_type": "code",
   "execution_count": null,
   "id": "e8510e87",
   "metadata": {},
   "outputs": [],
   "source": [
    "# generate a discrete time sine signal with a specified amplitude, frequency, duration, and \n",
    "# phase \n",
    "def sinusoid(freq=440.0, dur=1.0, srate=44100.0, amp=1.0, phase = 0.0): \n",
    "    t = np.linspace(0,dur,int(srate*dur))\n",
    "    data = amp * np.sin(2*np.pi*freq *t+phase)\n",
    "    return data\n",
    "\n",
    "srate = 48000\n",
    "data = sinusoid(freq=261.63, dur=2, srate=srate)\n",
    "plot([data[0:1000]], ['sin(t)'], 'Samples', 'Amplitude', 'Sinusoid at 440Hz')\n",
    "ipd.Audio(data, rate=srate)"
   ]
  },
  {
   "cell_type": "markdown",
   "id": "472e03ba",
   "metadata": {},
   "source": [
    "Using this approach we are able to create sinusoidal sounds with user-specified frequency and duration which means we can create simple melodies and potentially polyphony by appropriately summing the generated audio signals. \n",
    "\n",
    "However, there are several limitations of this approach. Every audio sample is computed by calling the np.sin() function. The longer the duration of the generated sound, the more calls need to be made. We know that the **sin** function is periodic so it should be possible to only compute the values of the function for one period and then reuse them. \n",
    "Another limitation is that we can only generate sinusoidal audio signals - ideally we would like a more general approach that can accomodate the generation of any periodic signal. We also would like to change (modulate) dynamically the frequency of the oscillator to generate more interesting signals. For example, analog synthesizers frequently provide a Low Frequency Oscillator (LFO) that can be use to modulate the frequency of a Voltage Control Oscillator (VCO). LFOs change at slow rates to provide effects like vibrato. \n",
    "\n",
    "Let's try to modify the code above by adding a LFO signal. "
   ]
  },
  {
   "cell_type": "code",
   "execution_count": null,
   "id": "196c5425",
   "metadata": {},
   "outputs": [],
   "source": [
    "def sinusoid_lfo_attempt1(freq = 440.0, dur=1.0, srate = 48000, amp=1.0, \n",
    "                          mode = 'lfo'):\n",
    "        t = np.arange(0,int(srate*dur))\n",
    "        lfo = np.sin(2 * np.pi * 2/srate * t)\n",
    "        if mode == 'lfo': \n",
    "            f = freq + 100 * lfo  # f is an array \n",
    "        elif mode == 'constant': \n",
    "            f = freq  # f is a single value \n",
    "        else: \n",
    "            f = freq\n",
    "            print('Unsupported mode')\n",
    "        data = amp * np.sin(2*np.pi*f/srate * t)       \n",
    "        return data\n",
    "    \n",
    "data = sinusoid_lfo_attempt1(freq=261.63, dur=3.0, mode='lfo')   # C4\n",
    "plot([data[0:3000]], ['LFO sin(t)'], 'Samples', 'Amplitude', 'Failed LFO')\n",
    "ipd.Audio(data, rate=srate)"
   ]
  },
  {
   "cell_type": "markdown",
   "id": "38b244fb",
   "metadata": {},
   "source": [
    "The resulting sound is interesting but not what we would expect for an LFO-modulated sinusoid. Instead of a a vibrato around a fixed frequency it keeps increasing in frequency. \n",
    "This has to do with the difference between instanteneous frequency and phase and frequency of the sinusoid. For those of you interested in the more signal processing aspects you can read more about this here: https://en.wikipedia.org/wiki/Instantaneous_phase_and_frequency\n",
    "\n",
    "To fix this problem we need to calculate how much to increase the phase at every sample. To make this process more explicit we will not take advantage of the vector operation of numpy and instead have an explicit loop. This would also be how one would code this in a lower level language like C or Assembly. "
   ]
  },
  {
   "cell_type": "code",
   "execution_count": null,
   "id": "e3f6afb0",
   "metadata": {
    "scrolled": false
   },
   "outputs": [],
   "source": [
    "def sinusoid_lfo_loop1(freq = 440.0, dur = 1.0, srate = 48000, amp=1.0, \n",
    "                      apply_lfo=True): \n",
    "    # allocate arrays \n",
    "    indices = np.arange(0, int(srate*dur))\n",
    "    f = np.zeros(indices.shape)\n",
    "    p = np.zeros(indices.shape)\n",
    "    lfo = np.zeros(indices.shape)\n",
    "    data = np.zeros(indices.shape)\n",
    "    \n",
    "    # loop version \n",
    "    for i in indices: \n",
    "        lfo[i] = np.sin(2 * np.pi * 2 / srate *i)\n",
    "        if apply_lfo: \n",
    "            f[i] = freq + 100.0 * lfo[i]\n",
    "        else: \n",
    "            f[i] = freq   \n",
    "        if (i > 0): \n",
    "            p[i] = (p[i-1] + f[i]/srate)  \n",
    "        data[i] = amp * np.sin(2 * np.pi * p[i])\n",
    "    plot([data[0:2000], p[0:2000]], ['data', 'phase'])\n",
    "    return data \n",
    "\n",
    "data = sinusoid_lfo_loop1(freq=200.63, dur = 4.0, apply_lfo=True)\n",
    "ipd.Audio(data, rate=srate)\n",
    "\n"
   ]
  },
  {
   "cell_type": "markdown",
   "id": "e6b9ab1d",
   "metadata": {},
   "source": [
    "Notice that the phase keeps increasing. This is not ideal because over longer time periods it could be come really big and cause numerical problems. Because the sinusoidal signal is periodic we can reset the phase every period using a mod operation. The resulting signal sounds the same but observe how the plot changes. "
   ]
  },
  {
   "cell_type": "code",
   "execution_count": null,
   "id": "5795b88f",
   "metadata": {
    "scrolled": false
   },
   "outputs": [],
   "source": [
    "def sinusoid_lfo_loop2(freq = 440.0, dur = 1.0, srate = 48000, amp=1.0, \n",
    "                      apply_lfo=True, lfo_freq=2.0, lfo_range=100.0): \n",
    "    # allocate arrays \n",
    "    indices = np.arange(0, int(srate*dur))\n",
    "    f = np.zeros(indices.shape)\n",
    "    p = np.zeros(indices.shape)\n",
    "    lfo = np.zeros(indices.shape)\n",
    "    data = np.zeros(indices.shape)\n",
    "    \n",
    "    # loop version \n",
    "    for i in indices: \n",
    "        lfo[i] = np.sin(2 * np.pi * lfo_freq / srate *i)\n",
    "        if apply_lfo: \n",
    "            f[i] = freq + lfo_range * lfo[i]\n",
    "        else: \n",
    "            f[i] = freq   \n",
    "        if (i > 0): \n",
    "            # here is the mod operation - the resulting phase increment \n",
    "            # has a saw tooh patten \n",
    "            p[i] = (p[i-1] + f[i]/srate) % 1.0 \n",
    "        data[i] = amp * np.sin(2 * np.pi * p[i])\n",
    "    plot([data[0:1000], p[0:1000]])\n",
    "    return data \n",
    "\n",
    "data = sinusoid_lfo_loop2(freq=261.63, dur = 4.0, apply_lfo=True)\n",
    "ipd.Audio(data, rate=srate)\n",
    "\n"
   ]
  },
  {
   "cell_type": "markdown",
   "id": "553bed24",
   "metadata": {},
   "source": [
    "**Sidenote**: If we increase the frequency of the LFO instead of hearing a vibrato, we start affecting the timbre of the resulting sound. This is the basis of **Frequency Modulation** synthesis technique we will explore later. Notice that the phase follows a distorted sawtooth pattern. "
   ]
  },
  {
   "cell_type": "code",
   "execution_count": null,
   "id": "1d203a93",
   "metadata": {},
   "outputs": [],
   "source": [
    "data = sinusoid_lfo_loop2(freq=261.63, dur = 4.0, apply_lfo=True, lfo_freq = 100, lfo_range=100)\n",
    "ipd.Audio(data, rate=srate)"
   ]
  },
  {
   "cell_type": "markdown",
   "id": "61609636",
   "metadata": {},
   "source": [
    "Now that we better understand the phase increment, we can recreate the above function in vector form. Notice that the np.cumsum keeps increasing in the code below. We could write a version that does the mod operation so that the phase would reset in a saw tooh fashion. This is left as an activity for the reader. "
   ]
  },
  {
   "cell_type": "code",
   "execution_count": null,
   "id": "affff0aa",
   "metadata": {},
   "outputs": [],
   "source": [
    "def sinusoid_lfo_vectorized(freq = 440.0, dur = 1.0, srate = 48000, amp=1.0, apply_lfo=True, lfo_freq=2.0, lfo_range=100): \n",
    "    indices = np.arange(0, int(srate*dur))\n",
    "    f = np.zeros(indices.shape)\n",
    "    p = np.zeros(indices.shape)\n",
    "    lfo = np.zeros(indices.shape)\n",
    "    data = np.zeros(indices.shape)\n",
    "    \n",
    "    lfo = np.sin(2 * np.pi * lfo_freq / srate *indices)\n",
    "    if apply_lfo: \n",
    "        f = freq + lfo_range * lfo\n",
    "    else: \n",
    "        f = np.repeat(freq,indices.shape[0])\n",
    "    p = np.cumsum(f/srate)\n",
    "    data = amp * np.sin(2 * np.pi * p)\n",
    "    plot([data[0:1000], p[0:1000]])\n",
    "    return data \n",
    "\n",
    "data = sinusoid_lfo_vectorized(freq=261.63, dur = 2.0, apply_lfo=True)\n",
    "ipd.Audio(data, rate=srate)"
   ]
  },
  {
   "cell_type": "markdown",
   "id": "700cb30c",
   "metadata": {},
   "source": [
    "\n",
    "Now that we have dealt with the issue of instantaneous frequency and phase let's look at reducing the memory footprint of the calculation. We know that the underlying sinusoidal signal is periodic. The idea behind a wavetable is to calculate and store the samples of one period of the waveform and then reuse the computed sampels as needed. \n",
    "\n",
    "Let's try to see if we can create a sound by only computing one period of the underlying periodic function and then repeating it. Notice that I have \"cooked\" the numbers so that the resulting wavetable size is an integer number of samples. This is typically not the case and we will look at how to deal with it later in this notebook. \n"
   ]
  },
  {
   "cell_type": "code",
   "execution_count": null,
   "id": "9d71e30e",
   "metadata": {},
   "outputs": [],
   "source": [
    "srate = 16000 \n",
    "freq = 160 \n",
    "wavetable_size = srate / freq\n",
    "print('Wavetable size', wavetable_size)\n",
    "\n",
    "t = np.arange(0, wavetable_size)\n",
    "wavetable = np.sin(2 * np.pi * freq / srate * t)\n",
    "plot([wavetable])\n",
    "\n",
    "# repeat/tile the wavetable 320 times to create the data array \n",
    "data = np.tile(wavetable, 320)\n",
    "ipd.Audio(data, rate=srate)"
   ]
  },
  {
   "cell_type": "markdown",
   "id": "081c1d63",
   "metadata": {},
   "source": [
    "Let's see if we can make this approach a little bit more general. \n",
    "The wavetable is created for a specific frequency and sample rate and then reused to a generate a sound of user-specified duration. This saves both computation (the np.sin calls are only done once at the start when **create_wavetable** is called) and memory. Notice that we still allocate the fully array of samples (data) for playback but in real-time scenarios we would generate the samples in small buffers as we will see later. \n",
    "\n",
    "One small thing to notice is that the true period for the wavetable is \n",
    "srate / frequency which is 183.46 samples. This is rounded up to 184 which means that the wavetable contains a little bit more than one period. This can cause issues when it is repeated. \n",
    "\n",
    "There are still some limitations with this approach. The wavetable needs to be recreated any time we want to play a sound of different frequency and also only supports the playback of sinusoids. We will address these limitations below. \n"
   ]
  },
  {
   "cell_type": "code",
   "execution_count": null,
   "id": "52968e99",
   "metadata": {},
   "outputs": [],
   "source": [
    "# create a wavetable holding the samples of one period of the waveform \n",
    "\n",
    "def create_wavetable(freq, srate):\n",
    "    # the wavetable length will be the period corresponding\n",
    "    # to the frequency at the specified sample rate\n",
    "    wavetable_length = int(srate / freq) \n",
    "    wavetable = np.zeros(wavetable_length)\n",
    "    f = np.zeros(wavetable_length)\n",
    "    p = np.zeros(wavetable_length)\n",
    "    for i in np.arange(0,wavetable_length): \n",
    "        f[i] = freq\n",
    "        if (i>0): \n",
    "            p[i] = (p[i-1]+f[i]/srate) % 1.0 \n",
    "        wavetable[i] = np.sin(2 * np.pi * p[i])\n",
    "\n",
    "    plot([wavetable[0:wavetable_length], p[0:wavetable_length]])\n",
    "    return wavetable \n",
    "\n",
    "# generate a user-specified duration of a sinusoidal signal \n",
    "# using a wavetable\n",
    "\n",
    "def sinusoid_wavetable(freq = 440.0, dur = 1.0, srate = 48000, \n",
    "                       amp=1.0):    \n",
    "    wavetable = create_wavetable(freq, srate)\n",
    "    indices = np.arange(0, int(srate*dur))\n",
    "    data = np.zeros(indices.shape)\n",
    "\n",
    "    for i in indices: \n",
    "        wavetable_index = i % wavetable.shape[0] \n",
    "        # read the samples from the wavetable \n",
    "        data[i] = wavetable[wavetable_index] \n",
    "    plot([data[0:1000]])\n",
    "    return data \n",
    "\n",
    "data = sinusoid_wavetable(freq=440, dur = 2.0)\n",
    "ipd.Audio(data, rate=srate)\n",
    "\n"
   ]
  },
  {
   "cell_type": "markdown",
   "id": "4748a54f",
   "metadata": {},
   "source": [
    "We can generalize the notion of a wavetable to compute any function by storing samples of that function in memory. We can define different function for different types of periodic functions that are common in synthesizers such as sawtooh, square, and triangle waveforms. We will also like to only have one wavetable and be able to generate any frequency from it. This can be done by computing different phase increments depending on the frequency rather than reading from the wavetable one value at a time. Another way to view this is as reading from the wave table at different sampling rates. \n",
    "\n",
    "In order, to return a value for non-integer phase increments some form of interpolation is needed. The **wavetable_lookup** function serves this purposes and supports three different approaches. "
   ]
  },
  {
   "cell_type": "code",
   "execution_count": null,
   "id": "fe0c130e",
   "metadata": {},
   "outputs": [],
   "source": [
    "# let's define some basic periodic waveforms\n",
    "def sawtooth(x):\n",
    "    return (x - np.pi)/np.pi\n",
    "\n",
    "def square(x):\n",
    "    return np.sign(sawtooth(x))\n",
    "\n",
    "def triangle(x):\n",
    "    return 1 - 2 * np.abs(sawtooth(x))\n",
    "\n",
    "\n",
    "# notice that the wavetable just stores \n",
    "# values of the function fn \n",
    "def create_wavetable(length, fn):\n",
    "    L = length+1 # add one sample to wavetable to allow edge interpolation\n",
    "    t = np.linspace(0, 1.0 , L)\n",
    "    wavetable = fn(2 * np.pi * t)\n",
    "    return wavetable\n",
    "    \n",
    "# wavetable look (truncate and round only use one sample), \n",
    "# interpolate uses two samples and is more accurate \n",
    "def wavetable_lookup(phase_index, wavetable, mode): \n",
    "    if (mode == 'truncate'): \n",
    "        return wavetable[int(phase_index)]\n",
    "    elif (mode == 'round'): \n",
    "        return wavetable[round(phase_index)]\n",
    "    elif (mode == 'interpolate'): \n",
    "        x  = phase_index\n",
    "        x0 = int(phase_index)\n",
    "        x1 = x0+1\n",
    "        y0 = wavetable[x0]\n",
    "        y1 = wavetable[x1]\n",
    "        return y0 * (x1-x) + y1 * (x - x0)\n",
    "    else:\n",
    "        return 0.0 \n",
    "    "
   ]
  },
  {
   "cell_type": "code",
   "execution_count": null,
   "id": "db8f820d",
   "metadata": {},
   "outputs": [],
   "source": [
    "table_length = 1000\n",
    "phase_index = 0 \n",
    "freq = 220 \n",
    "phase_increment = (table_length * freq) / srate \n",
    "data = np.zeros(srate)\n",
    "\n",
    "wavetable = create_wavetable(table_length, np.sin)\n",
    "plot([wavetable])\n",
    "for t in np.arange(0,srate): \n",
    "    phase_index = (phase_index + phase_increment) % table_length\n",
    "    data[t] = wavetable_lookup(phase_index, wavetable, mode='round')\n",
    "ipd.Audio(data, rate=srate)"
   ]
  },
  {
   "cell_type": "markdown",
   "id": "ee2e10cb",
   "metadata": {},
   "source": [
    "Let's try a different waveform "
   ]
  },
  {
   "cell_type": "code",
   "execution_count": null,
   "id": "c99da044",
   "metadata": {},
   "outputs": [],
   "source": [
    "wavetable = create_wavetable(table_length, triangle)\n",
    "duration_samples = 2 * srate \n",
    "samples = np.arange(0, duration_samples)\n",
    "data = np.zeros(duration_samples)\n",
    "\n",
    "freq = 220 \n",
    "phase_increment = (table_length * freq) / srate \n",
    "for s in samples: \n",
    "    phase_index = (phase_index + phase_increment) % table_length\n",
    "    data[s] = wavetable_lookup(phase_index, wavetable, mode='round')\n",
    "\n",
    "plot([data[0:2000]])   \n",
    "ipd.Audio(data, rate=srate)"
   ]
  },
  {
   "cell_type": "markdown",
   "id": "ee626b23",
   "metadata": {},
   "source": [
    "Notice that we we can use a LFO to modify the phase increment for every sample and get the right effect with any periodic waveform. As you can see from the plots the low frequency changes in the frequency results in corresponding changes in the phase increment reading from the wavetable. \n",
    "This process is called **frequency modulation**. "
   ]
  },
  {
   "cell_type": "code",
   "execution_count": null,
   "id": "1ef7d4ab",
   "metadata": {},
   "outputs": [],
   "source": [
    "wavetable = create_wavetable(table_length, triangle)\n",
    "lfo = np.sin(2 * np.pi * 100 / srate * samples)\n",
    "f = 220 + 100.0 * lfo\n",
    "phase_increment = (table_length * f) / srate \n",
    "\n",
    "for s in samples: \n",
    "    phase_index = (phase_index + phase_increment[s]) % table_length\n",
    "    data[s] = wavetable_lookup(phase_index, wavetable, mode='round')\n",
    "\n",
    "plot([data[0:1000]])\n",
    "plot([f[0:duration_samples]])\n",
    "plot([phase_increment[0:duration_samples]])\n",
    "ipd.Audio(data, rate=srate)\n"
   ]
  },
  {
   "cell_type": "markdown",
   "id": "a139c3b0",
   "metadata": {},
   "source": [
    "We can also use **frequency modulation** to create other effects like the \n",
    "exponential frequency sweep below. "
   ]
  },
  {
   "cell_type": "code",
   "execution_count": null,
   "id": "2fffe945",
   "metadata": {},
   "outputs": [],
   "source": [
    "wavetable = create_wavetable(table_length, triangle)\n",
    "\n",
    "base = 1000\n",
    "f = (base**np.linspace(0, 1, duration_samples) - 1) / (base - 1) * 3500 + 500\n",
    "phase_increment = (table_length * f) / srate \n",
    "\n",
    "for s in samples: \n",
    "    phase_index = (phase_index + phase_increment[s]) % table_length\n",
    "    data[s] = wavetable_lookup(phase_index, wavetable, mode='round')\n",
    "\n",
    "plot([data[0:1000]])\n",
    "plot([f[0:duration_samples]])\n",
    "plot([phase_increment[0:duration_samples]])\n",
    "ipd.Audio(data, rate=srate)\n",
    "\n"
   ]
  },
  {
   "cell_type": "markdown",
   "id": "724f00d2",
   "metadata": {},
   "source": [
    "Alternatively, we can use a LFO to change the amplitude of the resulting signal. This is called **amplitude modulation**. \n"
   ]
  },
  {
   "cell_type": "code",
   "execution_count": null,
   "id": "c03bd2b1",
   "metadata": {},
   "outputs": [],
   "source": [
    "wavetable = create_wavetable(table_length, triangle)\n",
    "lfo = np.sin(2 * np.pi * 3 / srate * samples)\n",
    "a = 0.5 + 0.4 * lfo\n",
    "phase_increment = (table_length * freq) / srate \n",
    "for s in samples: \n",
    "    phase_index = (phase_index + phase_increment) % table_length\n",
    "    data[s] = a[s] * wavetable_lookup(phase_index, wavetable, mode='round')\n",
    "\n",
    "plot([data[0:duration_samples]])\n",
    "ipd.Audio(data, rate=srate)"
   ]
  },
  {
   "cell_type": "markdown",
   "id": "e0e8ca4f",
   "metadata": {},
   "source": [
    "If we make the wavetable too small then we start hearing artifacts because of the quantization and interpolation. "
   ]
  },
  {
   "cell_type": "code",
   "execution_count": null,
   "id": "7abcd096",
   "metadata": {},
   "outputs": [],
   "source": [
    "table_length = 20\n",
    "phase_index = 0 \n",
    "freq = 220 \n",
    "phase_increment = (table_length * freq) / srate \n",
    "data = np.zeros(srate)\n",
    "\n",
    "wavetable = create_wavetable(table_length, np.sin)\n",
    "for t in np.arange(0,srate): \n",
    "    phase_index = (phase_index + phase_increment) % table_length\n",
    "    data[t] = wavetable_lookup(phase_index, wavetable, mode='round')\n",
    "plot([data[0:1000]])\n",
    "ipd.Audio(data, rate=srate)"
   ]
  },
  {
   "cell_type": "markdown",
   "id": "d4565af3",
   "metadata": {},
   "source": [
    "We can also create reasonable imitations of some musical instruments by sampling their time domain waveform and carefully selecting the repeating pattern as the wavetable. Here is an example with a trumpet sound. Notice the importance of the attack that is missing from the looped sample. A simple exercise for the reader is to isolate the attack of the sampled trumpet sound and play it before looping the wavetable for a more realistic sound. "
   ]
  },
  {
   "cell_type": "code",
   "execution_count": null,
   "id": "2326257d",
   "metadata": {},
   "outputs": [],
   "source": [
    "import librosa\n",
    "(y,srate) = librosa.load('trumpet_loop_48223.wav', sr=44100, mono=True)\n",
    "plot([np.tile(y,3),y])\n",
    "phase_index = 0 \n",
    "phase_increment = 1 \n",
    "data = np.zeros(srate)\n",
    "wavetable = y\n",
    "table_length = y.shape[0]\n",
    "for t in np.arange(0,srate): \n",
    "    phase_index = (phase_index + phase_increment) % table_length\n",
    "    data[t] = wavetable_lookup(phase_index, wavetable, mode='round')\n",
    "ipd.Audio(data, rate=srate)"
   ]
  },
  {
   "cell_type": "code",
   "execution_count": null,
   "id": "d17548b2",
   "metadata": {},
   "outputs": [],
   "source": [
    "# trumpet sound from freesound \n",
    "(y,srate) = librosa.load('48223__slothrop__trumpetc2.wav', sr=44100, mono=True)\n",
    "plot([y[600:1600]])\n",
    "ipd.Audio(y, rate=srate)"
   ]
  },
  {
   "cell_type": "markdown",
   "id": "7e6bb1d6",
   "metadata": {},
   "source": [
    "Any set of value that can be repeated periodically without discontinuities will result in a pitched sound. For example you can create various pitched sounds using a random polynomial as the wavetable. "
   ]
  },
  {
   "cell_type": "code",
   "execution_count": null,
   "id": "aa776bb3",
   "metadata": {},
   "outputs": [],
   "source": [
    "L = 256\n",
    "P = 14\n",
    "# generate random polynomial control points\n",
    "x = np.linspace(0, L, P)\n",
    "y = np.hstack([0, np.random.normal(size=P - 2), 0])\n",
    "# fit the random polynomial\n",
    "p = np.polyfit(x, y, deg=7)\n",
    "\n",
    "# generate wavetable \n",
    "wavetable = np.polyval(p, np.arange(L))\n",
    "wavetable /= np.max(np.abs(wavetable))\n",
    "srate = 44100\n",
    "plot([np.tile(wavetable,3),wavetable])\n",
    "phase_index = 0 \n",
    "phase_increment = 1 \n",
    "data = np.zeros(srate)\n",
    "table_length = wavetable.shape[0]\n",
    "for t in np.arange(0,srate): \n",
    "    phase_index = (phase_index + phase_increment) % table_length\n",
    "    data[t] = wavetable_lookup(phase_index, wavetable, mode='round')\n",
    "ipd.Audio(data, rate=srate)"
   ]
  },
  {
   "cell_type": "markdown",
   "id": "1d4fcef8",
   "metadata": {},
   "source": [
    "One can analyze the error of different types of interpolation \n",
    "when using table lookup for sinusoidal singnals: \n",
    "\n",
    "Moore FR. Table lookup noise for sinusoidal digital oscillators. Computer Music Journal. 1977 Apr 1:26-9.\n",
    "https://www.jstor.org/stable/pdf/23320138.pdf\n",
    "\n",
    "As well as generalize to more than sinusoids: \n",
    "Dannenberg RB. Interpolation error in waveform table lookup. International Computer Music Conference, 1998 \n",
    "\n",
    "https://kilthub.cmu.edu/articles/Interpolation_Error_in_Waveform_Table_Lookup/6606596/files/12097115.pdf \n",
    "\n"
   ]
  },
  {
   "cell_type": "markdown",
   "id": "1cbe9586",
   "metadata": {},
   "source": [
    "It is straightforward to extend the code above in various ways to enable more possibilities. Here are some examples: \n",
    "\n",
    "1. The sawtooth signals that correspond to the phase increments are sometimes called phasors. One can support polyphony using the same wavetable by using multiple phasors to generate different frequencies. One can think of the wavetable as a a circular array of values sometimes called a ring buffer that is being read at different sampling rates using interpolation. It is also possible to have multiple wavetables for supporting polyphony. The multiple phasors approach supports polyphony of the same underlying waveform but having multiple wavetables supports polyphony with potentially different oscillators (multi-timbrality) \n",
    "\n",
    "2. To provide more flexibility the wavetable oscillator(s) can take as argument time-varying envelopes for amplitude, frequency, and phase. For example one could add Attack, Decay, Sustain, Release envelopes for the amplitude. This generalizes oscillators to the concept of unit-generators that are fundamental building blocks in most computer music languages and programming environments and enables various types of interesting modulations. \n",
    "\n",
    "3. In languages that support object-oriented programming one can write the oscillators as objects and keep their state (for example phase-increment) as part of the object. This also allows the creation of more complex architectures like patches of unit generators. \n",
    "\n"
   ]
  }
 ],
 "metadata": {
  "kernelspec": {
   "display_name": "Python 3 (ipykernel)",
   "language": "python",
   "name": "python3"
  },
  "language_info": {
   "codemirror_mode": {
    "name": "ipython",
    "version": 3
   },
   "file_extension": ".py",
   "mimetype": "text/x-python",
   "name": "python",
   "nbconvert_exporter": "python",
   "pygments_lexer": "ipython3",
   "version": "3.9.12"
  }
 },
 "nbformat": 4,
 "nbformat_minor": 5
}
